{
 "cells": [
  {
   "cell_type": "code",
   "id": "initial_id",
   "metadata": {
    "collapsed": true,
    "ExecuteTime": {
     "end_time": "2025-01-04T15:37:07.324523Z",
     "start_time": "2025-01-04T15:37:06.563751Z"
    }
   },
   "source": [
    "import pandas as pd\n",
    "import folium\n",
    "import numpy as np\n",
    "import pandas as pd\n",
    "from matplotlib import cm, colors\n",
    "\n",
    "from data.referential.communes import Communes, CommunesGeojsonDictKey\n",
    "from data.referential.departements import Departements, DepartementsGeojsonDictKey"
   ],
   "outputs": [],
   "execution_count": 1
  },
  {
   "metadata": {
    "ExecuteTime": {
     "end_time": "2025-01-04T15:37:07.359627Z",
     "start_time": "2025-01-04T15:37:07.355758Z"
    }
   },
   "cell_type": "code",
   "source": "map_provider = \"Cartodb Positron\"",
   "id": "bc2ae2293a5b3b0c",
   "outputs": [],
   "execution_count": 2
  },
  {
   "metadata": {
    "ExecuteTime": {
     "end_time": "2025-01-04T15:37:11.090846Z",
     "start_time": "2025-01-04T15:37:07.533416Z"
    }
   },
   "cell_type": "code",
   "source": [
    "communes = Communes()\n",
    "departements = Departements()"
   ],
   "id": "17c24f58850a31d5",
   "outputs": [],
   "execution_count": 3
  },
  {
   "metadata": {
    "ExecuteTime": {
     "end_time": "2025-01-04T15:37:16.894963Z",
     "start_time": "2025-01-04T15:37:11.118934Z"
    }
   },
   "cell_type": "code",
   "source": [
    "communes_geojson = communes.geojson_data\n",
    "communes_geojson_dict_by_postal_code = communes.get_geojson_communes_dict(CommunesGeojsonDictKey.CODE_POSTAL)\n",
    "communes_df = communes.full_dataframe\n",
    "\n",
    "departements_geojson = departements.geojson_data\n",
    "departements_geojson_dict_by_insee_code = departements.get_geojson_departements_dict(DepartementsGeojsonDictKey.CODE_INSEE)\n",
    "departements_df = departements.full_dataframe"
   ],
   "id": "fb8a74b7e6b26d16",
   "outputs": [],
   "execution_count": 4
  },
  {
   "metadata": {
    "ExecuteTime": {
     "end_time": "2025-01-04T15:37:16.913788Z",
     "start_time": "2025-01-04T15:37:16.909800Z"
    }
   },
   "cell_type": "code",
   "source": "communes_geojson.keys()",
   "id": "12e7170d7b36de26",
   "outputs": [
    {
     "data": {
      "text/plain": [
       "dict_keys(['type', 'features'])"
      ]
     },
     "execution_count": 5,
     "metadata": {},
     "output_type": "execute_result"
    }
   ],
   "execution_count": 5
  },
  {
   "metadata": {
    "ExecuteTime": {
     "end_time": "2025-01-04T15:37:17.069404Z",
     "start_time": "2025-01-04T15:37:17.065908Z"
    }
   },
   "cell_type": "code",
   "source": "communes_geojson_dict_by_postal_code[\"95110\"]",
   "id": "1bf6ab0af378493d",
   "outputs": [
    {
     "data": {
      "text/plain": [
       "{'type': 'FeatureCollection',\n",
       " 'features': [{'type': 'Feature',\n",
       "   'geometry': {'coordinates': [[[2.2746232862242293, 48.964142285708824],\n",
       "      [2.264544733644791, 48.962156456706104],\n",
       "      [2.249072244123377, 48.96397601701786],\n",
       "      [2.225735542248568, 48.971030787219796],\n",
       "      [2.228754239386479, 48.972875751746535],\n",
       "      [2.236539789542911, 48.97663952706103],\n",
       "      [2.237344488289397, 48.98324522023138],\n",
       "      [2.242380838403832, 48.983600864430905],\n",
       "      [2.249424348993509, 48.97931970716351],\n",
       "      [2.273423372956813, 48.97670674550495],\n",
       "      [2.2746232862242293, 48.964142285708824]]],\n",
       "    'type': 'Polygon'},\n",
       "   'properties': {'insee_com': '95582',\n",
       "    'postal_code': '95110',\n",
       "    'nom_comm': 'SANNOIS',\n",
       "    'nom_dept': [\"VAL-D'OISE\"],\n",
       "    'nom_region': ['ILE-DE-FRANCE'],\n",
       "    'statut': ['Chef-lieu canton'],\n",
       "    'z_moyen': 75.0,\n",
       "    'superficie': 479.0,\n",
       "    'population': 25.9,\n",
       "    'geo_point_2d': {'lon': 2.252995141123462, 'lat': 48.97177731105208},\n",
       "    'id_geofla': '3835',\n",
       "    'code_comm': '582',\n",
       "    'code_cant': '22',\n",
       "    'code_arr': '1',\n",
       "    'code_dept': '95',\n",
       "    'code_reg': '11'}}]}"
      ]
     },
     "execution_count": 6,
     "metadata": {},
     "output_type": "execute_result"
    }
   ],
   "execution_count": 6
  },
  {
   "metadata": {
    "ExecuteTime": {
     "end_time": "2025-01-04T15:37:17.238755Z",
     "start_time": "2025-01-04T15:37:17.228473Z"
    }
   },
   "cell_type": "code",
   "source": [
    "ile_de_france_center = [48.85, 2.35]\n",
    "\n",
    "# Create a folium map\n",
    "map_ile_de_france = folium.Map(location=ile_de_france_center, zoom_start=9, tiles=map_provider)\n",
    "\n",
    "# Add the Île-de-France GeoJSON layer\n",
    "folium.GeoJson(\n",
    "    departements_geojson_dict_by_insee_code[\"95\"],\n",
    "    name=\"Île-de-France\",\n",
    "    style_function=lambda x: {\n",
    "        'fillColor': 'transparent',  # No fill color\n",
    "        'fillOpacity': 0,  # Make the fill transparent\n",
    "        'color': 'red',  # Set the border color to red\n",
    "        'weight': 2  # Set the thickness of the border\n",
    "    }\n",
    ").add_to(map_ile_de_france)\n",
    "\n",
    "# Add layer control (optional)\n",
    "folium.LayerControl().add_to(map_ile_de_france)"
   ],
   "id": "95f07eb942e7ac8c",
   "outputs": [
    {
     "data": {
      "text/plain": [
       "<folium.map.LayerControl at 0x7ca65ac4df70>"
      ]
     },
     "execution_count": 7,
     "metadata": {},
     "output_type": "execute_result"
    }
   ],
   "execution_count": 7
  },
  {
   "metadata": {
    "ExecuteTime": {
     "end_time": "2025-01-04T15:39:50.442898Z",
     "start_time": "2025-01-04T15:39:50.431319Z"
    }
   },
   "cell_type": "code",
   "source": [
    "# map_ile_de_france\n",
    "map_ile_de_france.save(\"test.html\")"
   ],
   "id": "d4e2ec1e4316ec27",
   "outputs": [],
   "execution_count": 13
  },
  {
   "metadata": {
    "ExecuteTime": {
     "end_time": "2025-01-04T15:37:17.542980Z",
     "start_time": "2025-01-04T15:37:17.535990Z"
    }
   },
   "cell_type": "code",
   "source": "print(communes_df.head())",
   "id": "c1e4052d65e106f9",
   "outputs": [
    {
     "name": "stdout",
     "output_type": "stream",
     "text": [
      "  Code INSEE Code Postal        Commune    Département              Région  \\\n",
      "0      59416       59190      MORBECQUE           NORD  NORD-PAS-DE-CALAIS   \n",
      "1      22102       22330      LANGOURLA  COTES-D'ARMOR            BRETAGNE   \n",
      "2      31225       31310  GOUTEVERNISSE  HAUTE-GARONNE       MIDI-PYRENEES   \n",
      "3      23025       23220         BONNAT         CREUSE            LIMOUSIN   \n",
      "4      38522       38740    VALJOUFFREY          ISERE         RHONE-ALPES   \n",
      "\n",
      "             Statut  Altitude Moyenne  Superficie  Population  \\\n",
      "0    Commune simple              23.0      4455.0         2.7   \n",
      "1    Commune simple             170.0      2165.0         0.6   \n",
      "2    Commune simple             264.0       485.0         0.2   \n",
      "3  Chef-lieu canton             355.0      4554.0         1.3   \n",
      "4    Commune simple            2009.0     12644.0         0.1   \n",
      "\n",
      "                             geo_point_2d  ID Geofla  Code Commune  \\\n",
      "0    50.67689342861573, 2.536216144331492       1237           416   \n",
      "1  48.284641107667674, -2.415501011324659      10183           102   \n",
      "2   43.214026301449536, 1.173765920286677      20555           225   \n",
      "3    46.32301933418213, 1.913450631364578       3586            25   \n",
      "4     44.88153491127053, 6.07950399615059       1082           522   \n",
      "\n",
      "   Code Canton  Code Arrondissement Code Département  Code Région  \n",
      "0           30                    4               59           31  \n",
      "1            9                    1               22           53  \n",
      "2           27                    1               31           73  \n",
      "3            6                    2               23           74  \n",
      "4           36                    1               38           82  \n"
     ]
    }
   ],
   "execution_count": 9
  },
  {
   "metadata": {
    "ExecuteTime": {
     "end_time": "2025-01-04T15:37:17.655038Z",
     "start_time": "2025-01-04T15:37:17.649357Z"
    }
   },
   "cell_type": "code",
   "source": "print(departements_df.head())\n",
   "id": "7980656cb180d6f7",
   "outputs": [
    {
     "name": "stdout",
     "output_type": "stream",
     "text": [
      "                                Geo Point  Année  Code Officiel Région  \\\n",
      "0   44.281256213529076, 2.678650218918751   2024                    76   \n",
      "1   45.263915344179914, 5.573982754477517   2024                    84   \n",
      "2  18.077472954610794, -63.05491142904646   2024                   978   \n",
      "3   46.09062392440227, 2.0184357585225348   2024                    75   \n",
      "4  44.82466715931578, -0.5758946813538832   2024                    75   \n",
      "\n",
      "    Nom Officiel Région Code Officiel Département  \\\n",
      "0             Occitanie                        12   \n",
      "1  Auvergne-Rhône-Alpes                        38   \n",
      "2          Saint-Martin                       978   \n",
      "3    Nouvelle-Aquitaine                        23   \n",
      "4    Nouvelle-Aquitaine                        33   \n",
      "\n",
      "  Code Officiel Courant Département Nom Officiel Département  \\\n",
      "0                                12                  Aveyron   \n",
      "1                                38                    Isère   \n",
      "2                               978             Saint-Martin   \n",
      "3                                23                   Creuse   \n",
      "4                                33                  Gironde   \n",
      "\n",
      "  Nom Officiel Département Majuscule Nom Officiel Département Minuscule  \\\n",
      "0                            AVEYRON                            aveyron   \n",
      "1                              ISERE                              isère   \n",
      "2                       SAINT-MARTIN                       saint-martin   \n",
      "3                             CREUSE                             creuse   \n",
      "4                            GIRONDE                            gironde   \n",
      "\n",
      "  Code Iso 3166-3 Zone                      Type Statut Département  \\\n",
      "0                  FXX               département              rural   \n",
      "1                  FXX               département             urbain   \n",
      "2                  MAF  collectivité d'outre-mer                NaN   \n",
      "3                  FXX               département              rural   \n",
      "4                  FXX               département             urbain   \n",
      "\n",
      "         SIREN Est une CTU  \n",
      "0  221200017.0         Non  \n",
      "1  223800012.0         Non  \n",
      "2          NaN         Non  \n",
      "3  222309627.0         Non  \n",
      "4  223300013.0         Non  \n"
     ]
    }
   ],
   "execution_count": 10
  },
  {
   "metadata": {
    "ExecuteTime": {
     "end_time": "2025-01-04T15:25:04.999499Z",
     "start_time": "2025-01-04T15:25:04.997764Z"
    }
   },
   "cell_type": "code",
   "source": "",
   "id": "d3be396650b028d4",
   "outputs": [],
   "execution_count": null
  },
  {
   "metadata": {},
   "cell_type": "code",
   "outputs": [],
   "execution_count": null,
   "source": "",
   "id": "a32591840028d3ac"
  }
 ],
 "metadata": {
  "kernelspec": {
   "display_name": "Python 3",
   "language": "python",
   "name": "python3"
  },
  "language_info": {
   "codemirror_mode": {
    "name": "ipython",
    "version": 2
   },
   "file_extension": ".py",
   "mimetype": "text/x-python",
   "name": "python",
   "nbconvert_exporter": "python",
   "pygments_lexer": "ipython2",
   "version": "2.7.6"
  }
 },
 "nbformat": 4,
 "nbformat_minor": 5
}
