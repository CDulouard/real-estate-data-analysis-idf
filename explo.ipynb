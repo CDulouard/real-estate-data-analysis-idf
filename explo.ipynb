{
 "cells": [
  {
   "cell_type": "code",
   "id": "initial_id",
   "metadata": {
    "collapsed": true,
    "ExecuteTime": {
     "end_time": "2025-01-04T14:49:34.636497Z",
     "start_time": "2025-01-04T14:49:34.151619Z"
    }
   },
   "source": [
    "import pandas as pd\n",
    "import folium\n",
    "import numpy as np\n",
    "import pandas as pd\n",
    "from matplotlib import cm, colors\n",
    "\n",
    "from data.referential.communes import Communes, CommunesGeojsonDictKey"
   ],
   "outputs": [],
   "execution_count": 1
  },
  {
   "metadata": {
    "ExecuteTime": {
     "end_time": "2025-01-04T14:49:35.115510Z",
     "start_time": "2025-01-04T14:49:35.113013Z"
    }
   },
   "cell_type": "code",
   "source": "map_provider = \"Cartodb Positron\"",
   "id": "bc2ae2293a5b3b0c",
   "outputs": [],
   "execution_count": 2
  },
  {
   "metadata": {
    "ExecuteTime": {
     "end_time": "2025-01-04T14:49:38.241468Z",
     "start_time": "2025-01-04T14:49:35.800087Z"
    }
   },
   "cell_type": "code",
   "source": "communes = Communes()",
   "id": "17c24f58850a31d5",
   "outputs": [],
   "execution_count": 3
  },
  {
   "metadata": {
    "ExecuteTime": {
     "end_time": "2025-01-04T14:50:06.640256Z",
     "start_time": "2025-01-04T14:50:01.884145Z"
    }
   },
   "cell_type": "code",
   "source": [
    "geojson = communes.geojson_data\n",
    "geojson_dict_by_postal_code = communes.get_geojson_communes_dict(CommunesGeojsonDictKey.POSTAL_CODE)\n",
    "df = communes.full_dataframe"
   ],
   "id": "fb8a74b7e6b26d16",
   "outputs": [],
   "execution_count": 7
  },
  {
   "metadata": {
    "ExecuteTime": {
     "end_time": "2025-01-04T14:49:44.495260Z",
     "start_time": "2025-01-04T14:49:44.490627Z"
    }
   },
   "cell_type": "code",
   "source": "geojson.keys()",
   "id": "12e7170d7b36de26",
   "outputs": [
    {
     "data": {
      "text/plain": [
       "dict_keys(['type', 'features'])"
      ]
     },
     "execution_count": 5,
     "metadata": {},
     "output_type": "execute_result"
    }
   ],
   "execution_count": 5
  },
  {
   "metadata": {
    "ExecuteTime": {
     "end_time": "2025-01-04T14:49:46.555441Z",
     "start_time": "2025-01-04T14:49:46.548969Z"
    }
   },
   "cell_type": "code",
   "source": "geojson_dict_by_postal_code[\"95110\"]",
   "id": "1bf6ab0af378493d",
   "outputs": [
    {
     "data": {
      "text/plain": [
       "{'type': 'FeatureCollection',\n",
       " 'features': [{'type': 'Feature',\n",
       "   'geometry': {'coordinates': [[[2.2746232862242293, 48.964142285708824],\n",
       "      [2.264544733644791, 48.962156456706104],\n",
       "      [2.249072244123377, 48.96397601701786],\n",
       "      [2.225735542248568, 48.971030787219796],\n",
       "      [2.228754239386479, 48.972875751746535],\n",
       "      [2.236539789542911, 48.97663952706103],\n",
       "      [2.237344488289397, 48.98324522023138],\n",
       "      [2.242380838403832, 48.983600864430905],\n",
       "      [2.249424348993509, 48.97931970716351],\n",
       "      [2.273423372956813, 48.97670674550495],\n",
       "      [2.2746232862242293, 48.964142285708824]]],\n",
       "    'type': 'Polygon'},\n",
       "   'properties': {'insee_com': '95582',\n",
       "    'postal_code': '95110',\n",
       "    'nom_comm': 'SANNOIS',\n",
       "    'nom_dept': [\"VAL-D'OISE\"],\n",
       "    'nom_region': ['ILE-DE-FRANCE'],\n",
       "    'statut': ['Chef-lieu canton'],\n",
       "    'z_moyen': 75.0,\n",
       "    'superficie': 479.0,\n",
       "    'population': 25.9,\n",
       "    'geo_point_2d': {'lon': 2.252995141123462, 'lat': 48.97177731105208},\n",
       "    'id_geofla': '3835',\n",
       "    'code_comm': '582',\n",
       "    'code_cant': '22',\n",
       "    'code_arr': '1',\n",
       "    'code_dept': '95',\n",
       "    'code_reg': '11'}}]}"
      ]
     },
     "execution_count": 6,
     "metadata": {},
     "output_type": "execute_result"
    }
   ],
   "execution_count": 6
  },
  {
   "metadata": {
    "ExecuteTime": {
     "end_time": "2025-01-04T14:45:39.937826Z",
     "start_time": "2025-01-04T14:45:39.924254Z"
    }
   },
   "cell_type": "code",
   "source": [
    "ile_de_france_center = [48.85, 2.35]\n",
    "\n",
    "# Create a folium map\n",
    "map_ile_de_france = folium.Map(location=ile_de_france_center, zoom_start=9, tiles=map_provider)\n",
    "\n",
    "# Add the Île-de-France GeoJSON layer\n",
    "folium.GeoJson(\n",
    "    geojson_dict_by_postal_code[\"95110\"],\n",
    "    name=\"Île-de-France\",\n",
    "    style_function=lambda x: {\n",
    "        'fillColor': 'transparent',  # No fill color\n",
    "        'fillOpacity': 0,  # Make the fill transparent\n",
    "        'color': 'red',  # Set the border color to red\n",
    "        'weight': 2  # Set the thickness of the border\n",
    "    }\n",
    ").add_to(map_ile_de_france)\n",
    "\n",
    "# Add layer control (optional)\n",
    "folium.LayerControl().add_to(map_ile_de_france)"
   ],
   "id": "95f07eb942e7ac8c",
   "outputs": [
    {
     "data": {
      "text/plain": [
       "<folium.map.LayerControl at 0x7df24cc4abe0>"
      ]
     },
     "execution_count": 8,
     "metadata": {},
     "output_type": "execute_result"
    }
   ],
   "execution_count": 8
  },
  {
   "metadata": {
    "ExecuteTime": {
     "end_time": "2025-01-04T14:45:42.035063Z",
     "start_time": "2025-01-04T14:45:42.023805Z"
    }
   },
   "cell_type": "code",
   "source": "map_ile_de_france.save(\"test.html\")",
   "id": "d4e2ec1e4316ec27",
   "outputs": [],
   "execution_count": 9
  },
  {
   "metadata": {
    "ExecuteTime": {
     "end_time": "2025-01-04T14:50:24.230673Z",
     "start_time": "2025-01-04T14:50:24.220922Z"
    }
   },
   "cell_type": "code",
   "source": "print(df.head())",
   "id": "c1e4052d65e106f9",
   "outputs": [
    {
     "name": "stdout",
     "output_type": "stream",
     "text": [
      "  Code INSEE Code Postal        Commune    Département              Région  \\\n",
      "0      59416       59190      MORBECQUE           NORD  NORD-PAS-DE-CALAIS   \n",
      "1      22102       22330      LANGOURLA  COTES-D'ARMOR            BRETAGNE   \n",
      "2      31225       31310  GOUTEVERNISSE  HAUTE-GARONNE       MIDI-PYRENEES   \n",
      "3      23025       23220         BONNAT         CREUSE            LIMOUSIN   \n",
      "4      38522       38740    VALJOUFFREY          ISERE         RHONE-ALPES   \n",
      "\n",
      "             Statut  Altitude Moyenne  Superficie  Population  ID Geofla  \\\n",
      "0    Commune simple              23.0      4455.0         2.7       1237   \n",
      "1    Commune simple             170.0      2165.0         0.6      10183   \n",
      "2    Commune simple             264.0       485.0         0.2      20555   \n",
      "3  Chef-lieu canton             355.0      4554.0         1.3       3586   \n",
      "4    Commune simple            2009.0     12644.0         0.1       1082   \n",
      "\n",
      "   Code Commune  Code Canton  Code Arrondissement Code Département  \\\n",
      "0           416           30                    4               59   \n",
      "1           102            9                    1               22   \n",
      "2           225           27                    1               31   \n",
      "3            25            6                    2               23   \n",
      "4           522           36                    1               38   \n",
      "\n",
      "   Code Région  \n",
      "0           31  \n",
      "1           53  \n",
      "2           73  \n",
      "3           74  \n",
      "4           82  \n"
     ]
    }
   ],
   "execution_count": 10
  },
  {
   "metadata": {},
   "cell_type": "code",
   "outputs": [],
   "execution_count": null,
   "source": "",
   "id": "7980656cb180d6f7"
  }
 ],
 "metadata": {
  "kernelspec": {
   "display_name": "Python 3",
   "language": "python",
   "name": "python3"
  },
  "language_info": {
   "codemirror_mode": {
    "name": "ipython",
    "version": 2
   },
   "file_extension": ".py",
   "mimetype": "text/x-python",
   "name": "python",
   "nbconvert_exporter": "python",
   "pygments_lexer": "ipython2",
   "version": "2.7.6"
  }
 },
 "nbformat": 4,
 "nbformat_minor": 5
}
