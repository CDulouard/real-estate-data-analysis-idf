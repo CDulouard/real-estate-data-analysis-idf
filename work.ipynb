{
 "cells": [
  {
   "cell_type": "code",
   "id": "initial_id",
   "metadata": {
    "collapsed": true,
    "ExecuteTime": {
     "end_time": "2025-03-22T11:12:52.897537Z",
     "start_time": "2025-03-22T11:12:52.675959Z"
    }
   },
   "source": [
    "import pandas as pd\n",
    "\n",
    "import data.referential.sections as ref_sections\n",
    "from data.domain.commune import Commune\n"
   ],
   "outputs": [],
   "execution_count": 1
  },
  {
   "metadata": {
    "ExecuteTime": {
     "end_time": "2025-03-22T11:14:48.323570Z",
     "start_time": "2025-03-22T11:14:03.832142Z"
    }
   },
   "cell_type": "code",
   "source": "insee_sections_data_provider = ref_sections.Section()",
   "id": "ba309efdb962c7a7",
   "outputs": [],
   "execution_count": 2
  },
  {
   "metadata": {},
   "cell_type": "code",
   "outputs": [],
   "execution_count": null,
   "source": [
    "geodata_sections = insee_sections_data_provider.get_geojson_sections_dict()\n",
    "insee_data_sections = insee_sections_data_provider.full_dataframe()"
   ],
   "id": "88329ade7b8676e2"
  }
 ],
 "metadata": {
  "kernelspec": {
   "display_name": "Python 3",
   "language": "python",
   "name": "python3"
  },
  "language_info": {
   "codemirror_mode": {
    "name": "ipython",
    "version": 2
   },
   "file_extension": ".py",
   "mimetype": "text/x-python",
   "name": "python",
   "nbconvert_exporter": "python",
   "pygments_lexer": "ipython2",
   "version": "2.7.6"
  }
 },
 "nbformat": 4,
 "nbformat_minor": 5
}
