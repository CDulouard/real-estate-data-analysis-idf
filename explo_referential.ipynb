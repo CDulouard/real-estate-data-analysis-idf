{
 "cells": [
  {
   "cell_type": "code",
   "id": "initial_id",
   "metadata": {
    "collapsed": true,
    "ExecuteTime": {
     "end_time": "2025-01-04T15:55:41.179587Z",
     "start_time": "2025-01-04T15:55:40.719725Z"
    }
   },
   "source": [
    "import folium\n",
    "\n",
    "from data.referential.communes import Communes, CommunesGeojsonDictKey\n",
    "from data.referential.departements import Departements, DepartementsGeojsonDictKey\n",
    "from data.referential.regions import Regions, RegionsGeojsonDictKey"
   ],
   "outputs": [],
   "execution_count": 1
  },
  {
   "metadata": {
    "ExecuteTime": {
     "end_time": "2025-01-04T15:55:41.185092Z",
     "start_time": "2025-01-04T15:55:41.183020Z"
    }
   },
   "cell_type": "code",
   "source": "map_provider = \"Cartodb Positron\"",
   "id": "bc2ae2293a5b3b0c",
   "outputs": [],
   "execution_count": 2
  },
  {
   "metadata": {
    "ExecuteTime": {
     "end_time": "2025-01-04T15:55:43.026238Z",
     "start_time": "2025-01-04T15:55:41.255024Z"
    }
   },
   "cell_type": "code",
   "source": [
    "communes = Communes()\n",
    "departements = Departements()\n",
    "regions = Regions()"
   ],
   "id": "17c24f58850a31d5",
   "outputs": [],
   "execution_count": 3
  },
  {
   "metadata": {
    "ExecuteTime": {
     "end_time": "2025-01-04T15:56:20.722244Z",
     "start_time": "2025-01-04T15:56:16.465149Z"
    }
   },
   "cell_type": "code",
   "source": [
    "communes_geojson = communes.geojson_data\n",
    "communes_geojson_dict_by_postal_code = communes.get_geojson_communes_dict(CommunesGeojsonDictKey.CODE_POSTAL)\n",
    "communes_df = communes.full_dataframe\n",
    "\n",
    "departements_geojson = departements.geojson_data\n",
    "departements_geojson_dict_by_insee_code = departements.get_geojson_departements_dict(\n",
    "    DepartementsGeojsonDictKey.CODE_INSEE)\n",
    "departements_df = departements.full_dataframe\n",
    "\n",
    "regions_geojson = regions.geojson_data\n",
    "regions_geojson_dict_by_name = regions.get_geojson_regions_dict(RegionsGeojsonDictKey.NOM)\n",
    "regions_df = regions.full_dataframe"
   ],
   "id": "fb8a74b7e6b26d16",
   "outputs": [],
   "execution_count": 9
  },
  {
   "metadata": {
    "ExecuteTime": {
     "end_time": "2025-01-04T15:56:20.730186Z",
     "start_time": "2025-01-04T15:56:20.727526Z"
    }
   },
   "cell_type": "code",
   "source": "communes_geojson.keys()",
   "id": "12e7170d7b36de26",
   "outputs": [
    {
     "data": {
      "text/plain": [
       "dict_keys(['type', 'features'])"
      ]
     },
     "execution_count": 10,
     "metadata": {},
     "output_type": "execute_result"
    }
   ],
   "execution_count": 10
  },
  {
   "metadata": {
    "ExecuteTime": {
     "end_time": "2025-01-04T15:56:32.536971Z",
     "start_time": "2025-01-04T15:56:32.521669Z"
    }
   },
   "cell_type": "code",
   "source": [
    "ile_de_france_center = [48.85, 2.35]\n",
    "\n",
    "# Create a folium map\n",
    "map_ile_de_france = folium.Map(location=ile_de_france_center, zoom_start=9, tiles=map_provider)\n",
    "\n",
    "# Add the Île-de-France GeoJSON layer\n",
    "folium.GeoJson(\n",
    "    regions_geojson_dict_by_name[\"ILE DE FRANCE\"],\n",
    "    name=\"Île-de-France\",\n",
    "    style_function=lambda x: {\n",
    "        'fillColor': 'transparent',  # No fill color\n",
    "        'fillOpacity': 0,  # Make the fill transparent\n",
    "        'color': 'red',  # Set the border color to red\n",
    "        'weight': 2  # Set the thickness of the border\n",
    "    }\n",
    ").add_to(map_ile_de_france)\n",
    "\n",
    "# Add layer control (optional)\n",
    "folium.LayerControl().add_to(map_ile_de_france)"
   ],
   "id": "95f07eb942e7ac8c",
   "outputs": [
    {
     "data": {
      "text/plain": [
       "<folium.map.LayerControl at 0x7c60e5935dc0>"
      ]
     },
     "execution_count": 17,
     "metadata": {},
     "output_type": "execute_result"
    }
   ],
   "execution_count": 17
  },
  {
   "metadata": {
    "ExecuteTime": {
     "end_time": "2025-01-04T15:56:20.881499Z",
     "start_time": "2025-01-04T15:56:20.875424Z"
    }
   },
   "cell_type": "code",
   "source": [
    "# map_ile_de_france\n",
    "map_ile_de_france.save(\"test.html\")"
   ],
   "id": "d4e2ec1e4316ec27",
   "outputs": [],
   "execution_count": 13
  },
  {
   "metadata": {
    "ExecuteTime": {
     "end_time": "2025-01-04T15:56:20.930894Z",
     "start_time": "2025-01-04T15:56:20.926041Z"
    }
   },
   "cell_type": "code",
   "source": "print(communes_df.head())",
   "id": "c1e4052d65e106f9",
   "outputs": [
    {
     "name": "stdout",
     "output_type": "stream",
     "text": [
      "  Code INSEE Code Postal        Commune    Département              Région  \\\n",
      "0      59416       59190      MORBECQUE           NORD  NORD-PAS-DE-CALAIS   \n",
      "1      22102       22330      LANGOURLA  COTES-D'ARMOR            BRETAGNE   \n",
      "2      31225       31310  GOUTEVERNISSE  HAUTE-GARONNE       MIDI-PYRENEES   \n",
      "3      23025       23220         BONNAT         CREUSE            LIMOUSIN   \n",
      "4      38522       38740    VALJOUFFREY          ISERE         RHONE-ALPES   \n",
      "\n",
      "             Statut  Altitude Moyenne  Superficie  Population  \\\n",
      "0    Commune simple              23.0      4455.0         2.7   \n",
      "1    Commune simple             170.0      2165.0         0.6   \n",
      "2    Commune simple             264.0       485.0         0.2   \n",
      "3  Chef-lieu canton             355.0      4554.0         1.3   \n",
      "4    Commune simple            2009.0     12644.0         0.1   \n",
      "\n",
      "                             geo_point_2d  ID Geofla  Code Commune  \\\n",
      "0    50.67689342861573, 2.536216144331492       1237           416   \n",
      "1  48.284641107667674, -2.415501011324659      10183           102   \n",
      "2   43.214026301449536, 1.173765920286677      20555           225   \n",
      "3    46.32301933418213, 1.913450631364578       3586            25   \n",
      "4     44.88153491127053, 6.07950399615059       1082           522   \n",
      "\n",
      "   Code Canton  Code Arrondissement Code Département  Code Région  \n",
      "0           30                    4               59           31  \n",
      "1            9                    1               22           53  \n",
      "2           27                    1               31           73  \n",
      "3            6                    2               23           74  \n",
      "4           36                    1               38           82  \n"
     ]
    }
   ],
   "execution_count": 14
  },
  {
   "metadata": {
    "ExecuteTime": {
     "end_time": "2025-01-04T15:56:21.039398Z",
     "start_time": "2025-01-04T15:56:21.032608Z"
    }
   },
   "cell_type": "code",
   "source": "print(departements_df.head())\n",
   "id": "7980656cb180d6f7",
   "outputs": [
    {
     "name": "stdout",
     "output_type": "stream",
     "text": [
      "                                Geo Point  Année  Code Officiel Région  \\\n",
      "0   44.281256213529076, 2.678650218918751   2024                    76   \n",
      "1   45.263915344179914, 5.573982754477517   2024                    84   \n",
      "2  18.077472954610794, -63.05491142904646   2024                   978   \n",
      "3   46.09062392440227, 2.0184357585225348   2024                    75   \n",
      "4  44.82466715931578, -0.5758946813538832   2024                    75   \n",
      "\n",
      "    Nom Officiel Région Code Officiel Département  \\\n",
      "0             Occitanie                        12   \n",
      "1  Auvergne-Rhône-Alpes                        38   \n",
      "2          Saint-Martin                       978   \n",
      "3    Nouvelle-Aquitaine                        23   \n",
      "4    Nouvelle-Aquitaine                        33   \n",
      "\n",
      "  Code Officiel Courant Département Nom Officiel Département  \\\n",
      "0                                12                  Aveyron   \n",
      "1                                38                    Isère   \n",
      "2                               978             Saint-Martin   \n",
      "3                                23                   Creuse   \n",
      "4                                33                  Gironde   \n",
      "\n",
      "  Nom Officiel Département Majuscule Nom Officiel Département Minuscule  \\\n",
      "0                            AVEYRON                            aveyron   \n",
      "1                              ISERE                              isère   \n",
      "2                       SAINT-MARTIN                       saint-martin   \n",
      "3                             CREUSE                             creuse   \n",
      "4                            GIRONDE                            gironde   \n",
      "\n",
      "  Code Iso 3166-3 Zone                      Type Statut Département  \\\n",
      "0                  FXX               département              rural   \n",
      "1                  FXX               département             urbain   \n",
      "2                  MAF  collectivité d'outre-mer                NaN   \n",
      "3                  FXX               département              rural   \n",
      "4                  FXX               département             urbain   \n",
      "\n",
      "         SIREN Est une CTU  \n",
      "0  221200017.0         Non  \n",
      "1  223800012.0         Non  \n",
      "2          NaN         Non  \n",
      "3  222309627.0         Non  \n",
      "4  223300013.0         Non  \n"
     ]
    }
   ],
   "execution_count": 15
  },
  {
   "metadata": {
    "ExecuteTime": {
     "end_time": "2025-01-04T15:56:21.154059Z",
     "start_time": "2025-01-04T15:56:21.147134Z"
    }
   },
   "cell_type": "code",
   "source": "print(regions_df.head())",
   "id": "d3be396650b028d4",
   "outputs": [
    {
     "name": "stdout",
     "output_type": "stream",
     "text": [
      "                                 Geo Point  Année  Code Officiel Région  \\\n",
      "0  14.655015784048599, -61.021072644020656   2024                     2   \n",
      "1    49.12004056010912, 0.1091170442820252   2024                    28   \n",
      "2     45.51476862065711, 4.536530733087437   2024                    84   \n",
      "3     48.68910107581824, 5.613202009375087   2024                    44   \n",
      "4     47.23485860455462, 4.807176251177442   2024                    27   \n",
      "\n",
      "   Code Officiel Courant Région      Nom Officiel Région  \\\n",
      "0                             2               Martinique   \n",
      "1                            28                Normandie   \n",
      "2                            84     Auvergne-Rhône-Alpes   \n",
      "3                            44                Grand Est   \n",
      "4                            27  Bourgogne-Franche-Comté   \n",
      "\n",
      "  Nom Officiel Région Majuscule Nom Officiel Région Minuscule  \\\n",
      "0                    MARTINIQUE                    martinique   \n",
      "1                     NORMANDIE                     normandie   \n",
      "2          AUVERGNE RHONE ALPES          auvergne-rhône-alpes   \n",
      "3                     GRAND EST                     grand est   \n",
      "4       BOURGOGNE FRANCHE COMTE       bourgogne-franche-comté   \n",
      "\n",
      "  Code Iso 3166-3 Zone    Type Est une CTU        SIREN  \n",
      "0                  MTQ  région         Oui  200055507.0  \n",
      "1                  FXX  région         Non  200053403.0  \n",
      "2                  FXX  région         Non  200053767.0  \n",
      "3                  FXX  région         Non  200052264.0  \n",
      "4                  FXX  région         Non  200053726.0  \n"
     ]
    }
   ],
   "execution_count": 16
  },
  {
   "metadata": {},
   "cell_type": "code",
   "outputs": [],
   "execution_count": null,
   "source": "",
   "id": "a32591840028d3ac"
  }
 ],
 "metadata": {
  "kernelspec": {
   "display_name": "Python 3",
   "language": "python",
   "name": "python3"
  },
  "language_info": {
   "codemirror_mode": {
    "name": "ipython",
    "version": 2
   },
   "file_extension": ".py",
   "mimetype": "text/x-python",
   "name": "python",
   "nbconvert_exporter": "python",
   "pygments_lexer": "ipython2",
   "version": "2.7.6"
  }
 },
 "nbformat": 4,
 "nbformat_minor": 5
}
