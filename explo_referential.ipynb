{
 "cells": [
  {
   "cell_type": "code",
   "id": "initial_id",
   "metadata": {
    "collapsed": true
   },
   "source": [
    "import folium\n",
    "import pandas as pd\n",
    "\n",
    "from data.referential.communes import Communes, CommunesGeojsonDictKey\n",
    "from data.referential.departements import Departements, DepartementsGeojsonDictKey\n",
    "from data.referential.regions import Regions, RegionsGeojsonDictKey\n",
    "\n",
    "pd.options.display.max_columns = None\n"
   ],
   "outputs": [],
   "execution_count": null
  },
  {
   "metadata": {},
   "cell_type": "code",
   "source": "map_provider = \"Cartodb Positron\"",
   "id": "bc2ae2293a5b3b0c",
   "outputs": [],
   "execution_count": null
  },
  {
   "metadata": {},
   "cell_type": "code",
   "source": [
    "communes = Communes()\n",
    "departements = Departements()\n",
    "regions = Regions()"
   ],
   "id": "17c24f58850a31d5",
   "outputs": [],
   "execution_count": null
  },
  {
   "metadata": {},
   "cell_type": "code",
   "source": [
    "communes_geojson = communes.geojson_data()\n",
    "communes_geojson_dict_by_postal_code = communes.get_geojson_communes_dict(CommunesGeojsonDictKey.CODE_POSTAL)\n",
    "communes_df = communes.full_dataframe()\n",
    "\n",
    "departements_geojson = departements.geojson_data()\n",
    "departements_geojson_dict_by_insee_code = departements.get_geojson_departements_dict(\n",
    "    DepartementsGeojsonDictKey.CODE_INSEE)\n",
    "departements_df = departements.full_dataframe()\n",
    "\n",
    "regions_geojson = regions.geojson_data()\n",
    "regions_geojson_dict_by_name = regions.get_geojson_regions_dict(RegionsGeojsonDictKey.NOM)\n",
    "regions_df = regions.full_dataframe()"
   ],
   "id": "fb8a74b7e6b26d16",
   "outputs": [],
   "execution_count": null
  },
  {
   "metadata": {},
   "cell_type": "code",
   "source": [
    "ile_de_france_center = [48.85, 2.35]\n",
    "\n",
    "# Create a folium map\n",
    "map_ile_de_france = folium.Map(location=ile_de_france_center, zoom_start=9, tiles=map_provider)\n",
    "\n",
    "# Add the Île-de-France GeoJSON layer\n",
    "folium.GeoJson(\n",
    "    regions_geojson_dict_by_name[\"ILE DE FRANCE\"],\n",
    "    name=\"Île-de-France\",\n",
    "    style_function=lambda x: {\n",
    "        'fillColor': 'transparent',  # No fill color\n",
    "        'fillOpacity': 0,  # Make the fill transparent\n",
    "        'color': 'red',  # Set the border color to red\n",
    "        'weight': 2  # Set the thickness of the border\n",
    "    }\n",
    ").add_to(map_ile_de_france)\n",
    "\n",
    "# Add layer control (optional)\n",
    "folium.LayerControl().add_to(map_ile_de_france)"
   ],
   "id": "95f07eb942e7ac8c",
   "outputs": [],
   "execution_count": null
  },
  {
   "metadata": {},
   "cell_type": "code",
   "source": [
    "# map_ile_de_france\n",
    "map_ile_de_france.save(\"test.html\")"
   ],
   "id": "d4e2ec1e4316ec27",
   "outputs": [],
   "execution_count": null
  },
  {
   "metadata": {},
   "cell_type": "code",
   "source": "communes_df.head()",
   "id": "c1e4052d65e106f9",
   "outputs": [],
   "execution_count": null
  },
  {
   "metadata": {},
   "cell_type": "code",
   "source": "departements_df.head()",
   "id": "7980656cb180d6f7",
   "outputs": [],
   "execution_count": null
  },
  {
   "metadata": {},
   "cell_type": "code",
   "source": "regions_df.head()",
   "id": "d3be396650b028d4",
   "outputs": [],
   "execution_count": null
  },
  {
   "metadata": {},
   "cell_type": "code",
   "source": "",
   "id": "3996737c3a7a0d4b",
   "outputs": [],
   "execution_count": null
  }
 ],
 "metadata": {
  "kernelspec": {
   "display_name": "Python 3",
   "language": "python",
   "name": "python3"
  },
  "language_info": {
   "codemirror_mode": {
    "name": "ipython",
    "version": 2
   },
   "file_extension": ".py",
   "mimetype": "text/x-python",
   "name": "python",
   "nbconvert_exporter": "python",
   "pygments_lexer": "ipython2",
   "version": "2.7.6"
  }
 },
 "nbformat": 4,
 "nbformat_minor": 5
}
